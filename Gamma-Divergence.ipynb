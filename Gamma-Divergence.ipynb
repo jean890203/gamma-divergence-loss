{
 "cells": [
  {
   "cell_type": "code",
   "execution_count": 1,
   "metadata": {},
   "outputs": [],
   "source": [
    "import tensorflow as tf;\n",
    "import os;\n",
    "os.environ['KMP_DUPLICATE_LIB_OK']='True'; # for mac"
   ]
  },
  {
   "cell_type": "code",
   "execution_count": 57,
   "metadata": {},
   "outputs": [],
   "source": [
    "#gamma divergence\n",
    "def gamma_divergence(y_true, y_pred):\n",
    "    P = y_true;\n",
    "    Q = y_pred;\n",
    "    n = tf.shape(P)[0];\n",
    "    k = tf.shape(P)[1];\n",
    "    gamma = tf.constant(_gamma); # gamma = 0.5\n",
    "    epsilon = tf.math.add(tf.constant(1.0), gamma);\n",
    "    g = tf.ones([n,k],tf.float32) * gamma;\n",
    "    e = tf.ones([n,k],tf.float32) * epsilon;\n",
    "    Qg = tf.math.pow(Q,g);\n",
    "    Qe = tf.math.pow(Q,e);\n",
    "    Pe  = tf.math.pow(P,e);\n",
    "    PQg = tf.math.multiply(P,Qg);\n",
    "    sumPQg = tf.reduce_sum(PQg,axis=1);\n",
    "    sumQe = tf.reduce_sum(Qe,axis=1);\n",
    "    sumPe = tf.reduce_sum(Pe,axis=1);\n",
    "    lnsumPe = tf.math.log(sumPe);\n",
    "    lnsumPQg = tf.math.log(sumPQg);\n",
    "    lnsumQe = tf.math.log(sumQe);\n",
    "    return tf.reduce_mean(\n",
    "        lnsumPe + gamma * lnsumQe - epsilon * lnsumPQg\n",
    "    ) / (gamma * epsilon);"
   ]
  },
  {
   "cell_type": "code",
   "execution_count": 58,
   "metadata": {},
   "outputs": [],
   "source": [
    "# kl divergence\n",
    "def kl_divergence(y_true, y_pred):\n",
    "    n = tf.shape(y_true)[0];\n",
    "    k = tf.shape(y_true)[1];\n",
    "    P = y_true + tf.ones([n,k]) * 10**-6;\n",
    "    Q= y_pred;\n",
    "    lnP = tf.math.log(P);\n",
    "    lnQ = tf.math.log(Q);\n",
    "    PlnP = tf.math.multiply(P,lnP);\n",
    "    PlnQ = tf.math.multiply(P,lnQ);\n",
    "    return tf.reduce_mean(\n",
    "        tf.math.reduce_sum(PlnP-PlnQ,axis=1)\n",
    "    );"
   ]
  },
  {
   "cell_type": "code",
   "execution_count": 59,
   "metadata": {},
   "outputs": [
    {
     "name": "stdout",
     "output_type": "stream",
     "text": [
      "60000 train samples\n",
      "10000 test samples\n"
     ]
    }
   ],
   "source": [
    "batch_size = 100;\n",
    "num_classes = 10;\n",
    "epochs = 10;\n",
    "# prepare data\n",
    "# mnist\n",
    "#(x_train, y_train), (x_test, y_test) = tf.keras.datasets.mnist.load_data();\n",
    "# fashon mnist\n",
    "(x_train, y_train), (x_test, y_test) = tf.keras.datasets.fashion_mnist.load_data();\n",
    "\n",
    "\n",
    "img_rows, img_cols = 28, 28\n",
    "\n",
    "x_train = x_train.reshape(x_train.shape[0], img_rows, img_cols, 1)\n",
    "x_test = x_test.reshape(x_test.shape[0], img_rows, img_cols, 1)\n",
    "input_shape = (img_rows, img_cols, 1)\n",
    "\n",
    "x_train = x_train.astype('float32')   # int型をfloat32型に変換\n",
    "x_test = x_test.astype('float32')\n",
    "x_train /= 255                        # [0-255]の値を[0.0-1.0]に変換\n",
    "x_test /= 255\n",
    "print(x_train.shape[0], 'train samples');\n",
    "print(x_test.shape[0], 'test samples');\n",
    "y_train = tf.keras.utils.to_categorical(y_train, num_classes)\n",
    "y_test = tf.keras.utils.to_categorical(y_test, num_classes)"
   ]
  },
  {
   "cell_type": "code",
   "execution_count": 60,
   "metadata": {},
   "outputs": [
    {
     "name": "stdout",
     "output_type": "stream",
     "text": [
      "Train on 60000 samples, validate on 10000 samples\n",
      "Epoch 1/10\n",
      "60000/60000 [==============================] - 18s 296us/sample - loss: 0.2337 - accuracy: 0.8357 - val_loss: 0.1764 - val_accuracy: 0.8751\n",
      "Epoch 2/10\n",
      "60000/60000 [==============================] - 19s 309us/sample - loss: 0.1591 - accuracy: 0.8868 - val_loss: 0.1645 - val_accuracy: 0.8780\n",
      "Epoch 3/10\n",
      "60000/60000 [==============================] - 19s 312us/sample - loss: 0.1395 - accuracy: 0.8992 - val_loss: 0.1468 - val_accuracy: 0.8922\n",
      "Epoch 4/10\n",
      "60000/60000 [==============================] - 18s 297us/sample - loss: 0.1261 - accuracy: 0.9076 - val_loss: 0.1583 - val_accuracy: 0.8889\n",
      "Epoch 5/10\n",
      "60000/60000 [==============================] - 18s 302us/sample - loss: 0.1165 - accuracy: 0.9137 - val_loss: 0.1463 - val_accuracy: 0.8962\n",
      "Epoch 6/10\n",
      "60000/60000 [==============================] - 19s 324us/sample - loss: 0.1084 - accuracy: 0.9195 - val_loss: 0.1361 - val_accuracy: 0.8983\n",
      "Epoch 7/10\n",
      "60000/60000 [==============================] - 19s 310us/sample - loss: 0.1001 - accuracy: 0.9261 - val_loss: 0.1320 - val_accuracy: 0.9037\n",
      "Epoch 8/10\n",
      "60000/60000 [==============================] - 19s 309us/sample - loss: 0.0935 - accuracy: 0.9310 - val_loss: 0.1234 - val_accuracy: 0.9099\n",
      "Epoch 9/10\n",
      "60000/60000 [==============================] - 18s 304us/sample - loss: 0.0875 - accuracy: 0.9354 - val_loss: 0.1300 - val_accuracy: 0.9096\n",
      "Epoch 10/10\n",
      "60000/60000 [==============================] - 18s 301us/sample - loss: 0.0818 - accuracy: 0.9394 - val_loss: 0.1303 - val_accuracy: 0.9089\n",
      "Test loss: 0.13026502623558045\n",
      "Test accuracy: 0.9089\n"
     ]
    }
   ],
   "source": [
    "#### My Model  with Projection Layer ####\n",
    "model = tf.keras.Sequential()\n",
    "model.add(tf.keras.layers.Conv2D(16, kernel_size=(3,3),strides=1, padding='same', activation='relu',input_shape=input_shape))\n",
    "model.add(tf.keras.layers.MaxPooling2D(pool_size=2));\n",
    "model.add(tf.keras.layers.Conv2D(16, kernel_size=(2,2),strides=1, padding='same', activation='relu'))\n",
    "model.add(tf.keras.layers.MaxPooling2D(pool_size=2));\n",
    "model.add(tf.keras.layers.Flatten())\n",
    "model.add(tf.keras.layers.Dense(256, activation='relu'))\n",
    "model.add(tf.keras.layers.Dense(10, activation='softmax'))\n",
    "# gamma-divergence\n",
    "model.compile(loss=gamma_divergence, optimizer=tf.keras.optimizers.Adam(), metrics=['accuracy']);\n",
    "# KL-divergence\n",
    "#model.compile(loss=tf.keras.losses.kullback_leibler_divergence, optimizer=tf.keras.optimizers.Adam(), metrics=['accuracy']);\n",
    "#model.compile(loss=tf.keras.losses.categorical_crossentropy, optimizer=tf.keras.optimizers.Adam(), metrics=['accuracy'])\n",
    "# start training\n",
    "history = model.fit(x_train, y_train, batch_size=batch_size, epochs=epochs, verbose=1, validation_data=(x_test, y_test))\n",
    "score = model.evaluate(x_test, y_test, verbose=0)\n",
    "print('Test loss:', score[0])\n",
    "print('Test accuracy:', score[1])"
   ]
  },
  {
   "cell_type": "code",
   "execution_count": null,
   "metadata": {},
   "outputs": [],
   "source": [
    "model.summary();"
   ]
  },
  {
   "cell_type": "code",
   "execution_count": null,
   "metadata": {},
   "outputs": [],
   "source": []
  }
 ],
 "metadata": {
  "kernelspec": {
   "display_name": "Python 3",
   "language": "python",
   "name": "python3"
  },
  "language_info": {
   "codemirror_mode": {
    "name": "ipython",
    "version": 3
   },
   "file_extension": ".py",
   "mimetype": "text/x-python",
   "name": "python",
   "nbconvert_exporter": "python",
   "pygments_lexer": "ipython3",
   "version": "3.7.5"
  }
 },
 "nbformat": 4,
 "nbformat_minor": 2
}
